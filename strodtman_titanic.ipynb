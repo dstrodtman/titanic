{
 "cells": [
  {
   "cell_type": "markdown",
   "metadata": {},
   "source": [
    "![](https://upload.wikimedia.org/wikipedia/en/b/bb/Titanic_breaks_in_half.jpg)"
   ]
  },
  {
   "cell_type": "markdown",
   "metadata": {},
   "source": [
    "# Project 1: [Titanic](https://www.kaggle.com/c/titanic/data)\n",
    "---\n",
    "\n",
    "The sinking of the RMS Titanic is one of the most infamous shipwrecks in history.  On April 15, 1912, during her maiden voyage, the Titanic sank after colliding with an iceberg, killing 1502 out of 2224 passengers and crew. This sensational tragedy shocked the international community and led to better safety regulations for ships.\n",
    "\n",
    "One of the reasons that the shipwreck led to such loss of life was that there were not enough lifeboats for the passengers and crew. Although there was some element of luck involved in surviving the sinking, some groups of people were more likely to survive than others, such as women, children, and the upper-class.\n",
    "\n",
    "In this project, you will exercise your skills with loading data, python data structures, and Pandas to identify charactaristics of Titanic survivors!\n",
    "\n",
    "---\n",
    "#### Your goals should be to:\n",
    "* Practice python programming including loops, conditionals, types, functions, and data structures\n",
    "* Start thinking critically about manipulating, organizing, and interpreting data\n",
    "* Troubleshoot errors\n",
    "\n",
    "---\n",
    "#### Getting Started:\n",
    "* **fork** the repository on git.generalassemb.ly\n",
    "* **clone** your forked repo\n",
    "\n",
    "---\n",
    "#### Submission:\n",
    "* You should be working on a **fork** of the GA project one repository. \n",
    "* Use **git** to manage versions of your project. Make sure to `add`, `commit`, and `push` your changes to **your fork** of the github \n",
    "* Submit a link to your project repository in the submission form by **Friday, 9/29 11:59 PM**. You will then receive the solutions.\n",
    "* Create a copy of your original notebook (file > make a copy in jupyter notebook)\n",
    "* In the copy, use the solutions to correct your work. Make sure to take note of your successes and struggles. Did you learn anything new from correcting your work?\n",
    "* Submit the corrected version by **Sunday, 10/1 11:59 PM** to receive instructor feedback on your work. ***Projects submitted after this deadline will not receive instructor feedback.***"
   ]
  },
  {
   "cell_type": "markdown",
   "metadata": {},
   "source": [
    "### Considerations:\n",
    "\n",
    "* You will be generating long data strutures- avoid displaying the whole thing. Display just the first or last few entries and look at the length or shape to check whether your code gives you back what you want and expect.\n",
    "* Make functions whenever possiblle!\n",
    "* Be explicit with your naming. You may forget what `this_list` is, but you will have an idea of what `passenger_fare_list` is. Variable naming will help you in the long run!\n",
    "* Don't forget about tab autocomplete!\n",
    "* Use markdown cells to document your planning, thoughts, and results. \n",
    "* Delete cells you will not include in your final submission\n",
    "* Try to solve your own problems using this framework:\n",
    "  1. Check your spelling\n",
    "  2. Google your errors. Is it on stackoverflow?\n",
    "  3. Ask your classmates\n",
    "  4. Ask a TA or instructor\n",
    "* Do not include errors or stack traces (fix them!)"
   ]
  },
  {
   "cell_type": "markdown",
   "metadata": {},
   "source": [
    "# 1. Using the `with open()` method in the `csv` library, load the titanic dataset into a list of lists.\n",
    "\n",
    "* The `type()` of your dataset should be `list`\n",
    "* The `type()` of each element in your dataset should also be `list`\n",
    "* The `len()` of your dataset should be 892 (892 rows, including the header)\n",
    "* The `len()` of each row element in your dataset should be have a `len()` of 12\n",
    "* Print out the first 3 rows including the header to check your data."
   ]
  },
  {
   "cell_type": "code",
   "execution_count": 1,
   "metadata": {},
   "outputs": [],
   "source": [
    "import csv\n",
    "from IPython.display import display\n",
    "import numpy as np"
   ]
  },
  {
   "cell_type": "code",
   "execution_count": 2,
   "metadata": {},
   "outputs": [],
   "source": [
    "rowed = []\n",
    "with open('/home/jovyan/dsi_projects/Project_1_titanic/titanic.csv') as file:\n",
    "    raw = csv.reader(file, quotechar='\"')\n",
    "    for row in raw:\n",
    "        rowed.append(row)"
   ]
  },
  {
   "cell_type": "markdown",
   "metadata": {},
   "source": [
    "# 2. Separate the first header row from the rest of your dataset. \n",
    "\n",
    "* The header should be a list of the column names\n",
    "* The data should be the rest of your data\n",
    "* Display the header and the first row of the dataset zipped together using `zip`\n",
    "* Your result should look like...\n",
    "\n",
    "\n",
    "```\n",
    "[('PassengerId', '1'),\n",
    " ('Survived', '0'),\n",
    " ('Pclass', '3'),\n",
    " ...\n",
    " ('Embarked', 'S')]\n",
    " ```"
   ]
  },
  {
   "cell_type": "code",
   "execution_count": 3,
   "metadata": {},
   "outputs": [],
   "source": [
    "header = rowed[0]\n",
    "data = rowed[1:]"
   ]
  },
  {
   "cell_type": "markdown",
   "metadata": {},
   "source": [
    "# 3. Using a `for` loop, load your data into a `dict` called `data_dict`.\n",
    "\n",
    "* The keys of your `data_dict` should be `PassengerId`\n",
    "* The values of your `data_dict` should be dictionaries...\n",
    "  * Each of these dictionaries should reperesent a column value within a row\n",
    "  * The keys should be the names of the columns\n",
    "  * The values should be the values of that column\n",
    "  \n",
    "The beginning of your `data_dict` should look like: \n",
    "\n",
    "    {'1': {'Age': '22',\n",
    "      'Cabin': '',\n",
    "      'Embarked': 'S',\n",
    "      'Fare': '7.25',\n",
    "      'Name': 'Braund, Mr. Owen Harris',\n",
    "      'Parch': '0',\n",
    "      'Pclass': '3',\n",
    "      'Sex': 'male',\n",
    "      'SibSp': '1',\n",
    "      'Survived': '0',\n",
    "      'Ticket': 'A/5 21171'},\n",
    "     '10': {'Age': '14',\n",
    "      'Cabin': '',\n",
    "      'Embarked': 'C',\n",
    "      'Fare': '30.0708',\n",
    "      'Name': 'Nasser, Mrs. Nicholas (Adele Achem)',\n",
    "      'Parch': '0',\n",
    "      'Pclass': '2',\n",
    "      'Sex': 'female',\n",
    "      'SibSp': '1',\n",
    "      'Survived': '1',\n",
    "      'Ticket': '237736'},\n",
    "      ...\n",
    "      }"
   ]
  },
  {
   "cell_type": "code",
   "execution_count": 4,
   "metadata": {},
   "outputs": [],
   "source": [
    "data_dict = {}\n",
    "\n",
    "for row in data:\n",
    "    data_dict[row[0]] = dict(zip(header[1:], row[1:]))\n"
   ]
  },
  {
   "cell_type": "markdown",
   "metadata": {},
   "source": [
    "# 4. Repeat step 3 using a dictionary comprehension.\n",
    "\n",
    "* Using `==`, check if your `data_dict` from your `for` loop is the same as the one from your dictionary comprehension."
   ]
  },
  {
   "cell_type": "code",
   "execution_count": 5,
   "metadata": {},
   "outputs": [],
   "source": [
    "data_dict_comp = {row[0]: dict(zip(header[1:], row[1:])) for row in data}"
   ]
  },
  {
   "cell_type": "code",
   "execution_count": 6,
   "metadata": {},
   "outputs": [
    {
     "data": {
      "text/plain": [
       "True"
      ]
     },
     "execution_count": 6,
     "metadata": {},
     "output_type": "execute_result"
    }
   ],
   "source": [
    "data_dict_comp == data_dict"
   ]
  },
  {
   "cell_type": "markdown",
   "metadata": {},
   "source": [
    "# 5. Transform your `data_dict` to be oriented by column and call it `data_dict_columns`\n",
    "\n",
    "* Currently, our `data_dict` is oriented by row, indexed by `\"PassengerId\"`. \n",
    "* Transform your data so that the title of each row is a key, the values are of type `list` and represent column vectors.\n",
    "\n",
    "If you display `data_dict_columns`, the beginning should look like...\n",
    "\n",
    "    {'Age': ['25',\n",
    "      '36',\n",
    "      '24',\n",
    "      '40',\n",
    "      '45',\n",
    "      '2',\n",
    "      '24',\n",
    "      '28',\n",
    "      '33',\n",
    "      '26',\n",
    "      '39',\n",
    "      ..."
   ]
  },
  {
   "cell_type": "code",
   "execution_count": 7,
   "metadata": {},
   "outputs": [],
   "source": [
    "data_dict_columns = {}\n",
    "for i, key in enumerate(header):\n",
    "    col = []\n",
    "    for j in range(len(data)):\n",
    "        col.append(data[j][i])\n",
    "    data_dict_columns[key] = col"
   ]
  },
  {
   "cell_type": "markdown",
   "metadata": {},
   "source": [
    "# 6. Data Types\n",
    "\n",
    "What is the current `type` of each column? What do you think the data type of each column *should* be? The data types in Python are...\n",
    "\n",
    "* `int`\n",
    "* `float`\n",
    "* `str`\n",
    "* `bool`\n",
    "* `tuple`\n",
    "* `list`\n",
    "* `dict`\n",
    "* `set`\n",
    "\n",
    "In a markdown cell, describe what each column represents and what the `type` of each value should be. **Extra:** If you want to be fancy, use a [markdown table](https://github.com/adam-p/markdown-here/wiki/Markdown-Cheatsheet#tables) to display your results."
   ]
  },
  {
   "cell_type": "markdown",
   "metadata": {},
   "source": [
    "#### Your answer here (double click here to edit this markdown cell, and press shift-enter exit edit mode!):\n",
    "\n",
    "**Currently, all my columns are of type list with values all stored as strings.**\n",
    "\n",
    "\n",
    "|Key|Target Type|\n",
    "|:---|:---|\n",
    "|'PassengerId' | int  |\n",
    "|'Survived' | bool |\n",
    "|'Pclass' | int |\n",
    "|'Name' | str |\n",
    "|'Sex' | str |\n",
    "|'Age' | float |\n",
    "|'SibSp' | int |\n",
    "|'Parch' | int |\n",
    "|'Ticket' | str |\n",
    "|'Fare' | float |\n",
    "|'Cabin' | str |\n",
    "|'Embarked' | str |\n",
    "\n"
   ]
  },
  {
   "cell_type": "markdown",
   "metadata": {},
   "source": [
    "# 7. Transform each column to the appropriate type if needed.\n",
    "\n",
    "Build a function called `transform_column` that takes arguments for a `data_dict`, `column_name`, and `datatype`, and use it to transofm the columns that need transformation.\n",
    "\n",
    "**NOTE:** There are values in this dataset that cannot be directly cast to a numerical value. Use `if/then` or `try/except` statements to handle errors. \n",
    "\n",
    "**To help identify potential sources of errors, explore the `set` of values in each column.**"
   ]
  },
  {
   "cell_type": "code",
   "execution_count": 8,
   "metadata": {},
   "outputs": [],
   "source": [
    "# Your code here\n",
    "def transform_column(data_dict, column_name, datatype):\n",
    "    for i in range(len(data_dict[column_name])):\n",
    "        if datatype == bool:\n",
    "            data_dict[column_name][i] = int(data_dict[column_name][i])\n",
    "        try:\n",
    "            data_dict[column_name][i] = datatype(data_dict[column_name][i])\n",
    "        except:\n",
    "            data_dict[column_name][i] = np.nan"
   ]
  },
  {
   "cell_type": "code",
   "execution_count": 9,
   "metadata": {},
   "outputs": [],
   "source": [
    "keys = ['PassengerId', 'Survived', 'Pclass', 'Age', 'SibSp', 'Parch', 'Fare']\n",
    "target_type = [int, bool, int, float, int, int, float]"
   ]
  },
  {
   "cell_type": "code",
   "execution_count": 10,
   "metadata": {},
   "outputs": [],
   "source": [
    "for i in range(len(keys)):\n",
    "    transform_column(data_dict_columns, keys[i], target_type[i])"
   ]
  },
  {
   "cell_type": "markdown",
   "metadata": {},
   "source": [
    "# 8. Build functions to calculate the mean, sample standard deviation, and median of a list of ints or floats. Use `scipy.stats.mode` or build your own mode function!\n",
    "\n",
    "\n",
    "If you filled any missing values with `np.NaN`, you may need to handle that in your functions (look up `np.isnan()`).\n",
    "\n",
    "If building a `mode` function is too difficult, you import mode from `scipy.stats` using `from scipy.stats import mode`.\n",
    "\n",
    "**Optional:**  Build a function for calculating the Mode that returns the mode value *and* the count of that value. Mode is tricky, so start by building a function that counts the occurances of each value. You may also need to sort using a `key` with a `lambda function` inside. You may also find a `defaultdict` useful."
   ]
  },
  {
   "cell_type": "markdown",
   "metadata": {},
   "source": [
    "Mean"
   ]
  },
  {
   "cell_type": "code",
   "execution_count": 11,
   "metadata": {},
   "outputs": [],
   "source": [
    "def this_mean(data_list):\n",
    "    total = 0\n",
    "    count = 0\n",
    "    for i in data_list:\n",
    "        if not np.isnan(i):\n",
    "            total += i\n",
    "            count += 1\n",
    "    return total/count"
   ]
  },
  {
   "cell_type": "markdown",
   "metadata": {},
   "source": [
    "Standard Deviation"
   ]
  },
  {
   "cell_type": "code",
   "execution_count": 12,
   "metadata": {},
   "outputs": [],
   "source": [
    "def this_std(data_list):\n",
    "    x_bar = this_mean(data_list)\n",
    "    total = 0\n",
    "    count = 0\n",
    "    for i in data_list:\n",
    "        if not np.isnan(i):\n",
    "            total += (i - x_bar)**2\n",
    "            count += 1\n",
    "    return np.sqrt(total/count)"
   ]
  },
  {
   "cell_type": "markdown",
   "metadata": {},
   "source": [
    "Median"
   ]
  },
  {
   "cell_type": "code",
   "execution_count": 13,
   "metadata": {},
   "outputs": [],
   "source": [
    "def this_median(data_list):\n",
    "    no_nans = [x for x in data_list if not np.isnan(x)]\n",
    "    no_nans.sort()\n",
    "    mid = len(no_nans) // 2\n",
    "    if len(no_nans) % 2 != 0:\n",
    "        return no_nans[mid]\n",
    "    else:\n",
    "        return this_mean(no_nans[mid-1:mid+1])"
   ]
  },
  {
   "cell_type": "markdown",
   "metadata": {},
   "source": [
    "Mode"
   ]
  },
  {
   "cell_type": "code",
   "execution_count": 14,
   "metadata": {},
   "outputs": [],
   "source": [
    "def this_mode(data_list):\n",
    "    unique, counts = np.unique(data_list, return_counts=True)\n",
    "    mode_list = list(zip(counts, unique))\n",
    "    mode_list.sort(reverse=True)\n",
    "    return mode_list[0][1], mode_list[0][0]"
   ]
  },
  {
   "cell_type": "markdown",
   "metadata": {},
   "source": [
    "# 9. Summary Statistics of Numerical Columns\n",
    "\n",
    "For numerical columns, what is the mean, standard deviation, mean, and mode for that data? Which measure of central tendency is the most descriptive of each column? Why? Explain your answer in a markdown cell."
   ]
  },
  {
   "cell_type": "code",
   "execution_count": 15,
   "metadata": {},
   "outputs": [],
   "source": [
    "def summary_stats(data_dict):\n",
    "    '''\n",
    "    Accepts a data_dict as a dict of lists organized as columnar data. No need to specify \n",
    "    which are numerical. Returns a dict of summary statistics organized by columnar keys, eg.:\n",
    "    \n",
    "    {'Age': {'Mean': 29.69911764705882,\n",
    "      'Median': 28.0,\n",
    "      'Mode': (24.0, 30),\n",
    "      'Std': 14.516321150817317},\n",
    "     'Fare': {'Mean': 32.2042079685746,\n",
    "      'Median': 14.4542,\n",
    "      'Mode': (8.0500000000000007, 43),\n",
    "      'Std': 49.66553444477411}}\n",
    "\n",
    "    '''\n",
    "    \n",
    "    # Initialize dict\n",
    "    ss_dict = {}\n",
    "    \n",
    "    # Loop through keys, calculating Mean, Std, Median, Mode\n",
    "    for key in data_dict.keys():\n",
    "        try:\n",
    "            this_key = {}\n",
    "            this_key['Mean'] = this_mean(data_dict[key])\n",
    "            this_key['Std'] = this_std(data_dict[key])\n",
    "            this_key['Median'] = this_median(data_dict[key])\n",
    "            this_key['Mode'] = this_mode(data_dict[key])\n",
    "            ss_dict[key] = this_key\n",
    "        except:\n",
    "            pass\n",
    "    \n",
    "    return ss_dict"
   ]
  },
  {
   "cell_type": "code",
   "execution_count": 16,
   "metadata": {},
   "outputs": [],
   "source": [
    "ss_dict = summary_stats(data_dict_columns)"
   ]
  },
  {
   "cell_type": "code",
   "execution_count": 17,
   "metadata": {},
   "outputs": [
    {
     "data": {
      "text/plain": [
       "{'Age': {'Mean': 29.69911764705882,\n",
       "  'Median': 28.0,\n",
       "  'Mode': (24.0, 30),\n",
       "  'Std': 14.516321150817317},\n",
       " 'Fare': {'Mean': 32.2042079685746,\n",
       "  'Median': 14.4542,\n",
       "  'Mode': (8.0500000000000007, 43),\n",
       "  'Std': 49.66553444477411},\n",
       " 'Parch': {'Mean': 0.38159371492704824,\n",
       "  'Median': 0,\n",
       "  'Mode': (0, 678),\n",
       "  'Std': 0.8056047612452284},\n",
       " 'PassengerId': {'Mean': 446.0,\n",
       "  'Median': 446,\n",
       "  'Mode': (891, 1),\n",
       "  'Std': 257.20938292890224},\n",
       " 'Pclass': {'Mean': 2.308641975308642,\n",
       "  'Median': 3,\n",
       "  'Mode': (3, 491),\n",
       "  'Std': 0.83560193347951894},\n",
       " 'SibSp': {'Mean': 0.5230078563411896,\n",
       "  'Median': 0,\n",
       "  'Mode': (0, 608),\n",
       "  'Std': 1.1021244350892836},\n",
       " 'Survived': {'Mean': 0.3838383838383838,\n",
       "  'Median': False,\n",
       "  'Mode': (False, 549),\n",
       "  'Std': 0.48631931786710086}}"
      ]
     },
     "execution_count": 17,
     "metadata": {},
     "output_type": "execute_result"
    }
   ],
   "source": [
    "ss_dict"
   ]
  },
  {
   "cell_type": "markdown",
   "metadata": {},
   "source": [
    "## Summary Statistics\n",
    "\n",
    "|Column   |Statistic   |Reason   |\n",
    "|:--------|:-----------|:--------|\n",
    "|Age      |Mean with STD|Because age is continuous within a fixed range, mean and std do a good job of capturing the data |\n",
    "|Fare     |Median      |High end outliers inflate the mean and affect the std |\n",
    "|Parch    |Mode (with count) or median |The majority of values are 0 |\n",
    "|PassengerId |None     |While this column is numeric, it serves solely as an identifier/index column |\n",
    "|Pclass   |Mode (with count) or median |The majority of values are 3 |\n",
    "|SibSp    |Mode (with count) or median |The majority of values are 0 |\n",
    "|Survived |Mode (with count) or median |The majority of values are 0 |\n",
    "\n",
    "It is likely that Parch and SibSp will have limited predictive ability because of the small number of non-zero value.\n",
    "\n",
    "PassengerId is an identifier, and statistics should not be calculated on this column.\n",
    "\n",
    "Pclass is categorical. Counts are the most meaningful way to deal with this column.\n",
    "\n",
    "Survived is a boolean. Counts are the most meaningful way to deal with this column. Mean just lets us know what percentage of passengers survied.\n",
    "\n",
    "Age and Fare are the only continuous values, and as such these results are the most meaningful. Comparing the mean and std with the median reveals that Fare likely has some outliers that will need to be dealt with, but that Age likely shows a fairly normal distribution (though with a positive skew because of the expected range of human ages)."
   ]
  },
  {
   "cell_type": "markdown",
   "metadata": {},
   "source": [
    "# 10. Splitting the Data to Predicting Survival\n",
    "\n",
    "For all the passengers in the dataset, the mean survival rate is around .38 (38% of the passengers survived). From our data, we may be able to profile who survived and who didn't!\n",
    "\n",
    "Split the data by pclass. Does the class a passenger was in affect survivability? You can do this by:\n",
    "* Creating a list of `True` and `False` values conditional on a column's value\n",
    "* Taking the mean of the `Survived` column where those values are `True`"
   ]
  },
  {
   "cell_type": "code",
   "execution_count": 18,
   "metadata": {},
   "outputs": [],
   "source": [
    "# Function definition for this and the next problem\n",
    "\n",
    "\n",
    "def split_predict(data_dict, groups, combos=False):\n",
    "    '''\n",
    "    Returns survival rate and booleans for subgroups specified [with combinations]\n",
    "    \n",
    "    data_dict: a dict of columnar lists\n",
    "    groups: a dict of column names with list of args specifying groups; list of strings or ints\n",
    "            for categorical data, list of tuples for ranges in continuous data [with optional \n",
    "            int as upper bound], e.g.\n",
    "            {'Sex': ['male'], 'Pclass': [1, 2], 'Age': [(0,14),(14,24), (24, 50)], \n",
    "             'Fare': [(0,10), 10]}\n",
    "        note: 'Name', 'Ticket', 'Cabin', and 'PassengerId' are not appropriate calls to this \n",
    "        function;\n",
    "    combos=True will enable permutations of groups [consider scaling before enabling]\n",
    "    \n",
    "    example call:\n",
    "    \n",
    "    surv_dict, bool_dict = split_predict(data_dict_columns, {'Age': [(0,25), (25,50), 50], \n",
    "            'Sex': ['male','female']})\n",
    "\n",
    "    \n",
    "    Returns: \n",
    "        surv_dict: dict of dicts groups: {labels: survival percentage}\n",
    "        bool_dict: dict of dicts groups: {labels: bool for group inclusion}\n",
    "    \n",
    "    '''\n",
    "    \n",
    "    # Init bool_dict and surv_dict with groups\n",
    "    bool_dict = {x: {} for x in groups.keys()}\n",
    "    surv_dict = {x: {} for x in groups.keys()}\n",
    "    \n",
    "    # Loop groups for single variables\n",
    "    for group, args in groups.items():\n",
    "        lo, hi = [], []\n",
    "        # Check if arg is tuple or str/int/bool:\n",
    "        if type(args[0]) is tuple:\n",
    "            for arg in args:\n",
    "                try:\n",
    "                    lo, hi = arg\n",
    "                except:\n",
    "                    lo, hi = arg, []\n",
    "                if hi:\n",
    "                    label = '{}_{}-{}'.format(group, lo, hi)\n",
    "                    bool_dict[group][label] = list((x >= lo) & (x < hi) for x in data_dict[group])\n",
    "                else:\n",
    "                    label = '{}_{}+'.format(group, lo)\n",
    "                    bool_dict[group][label] = list(x >= lo for x in data_dict[group])\n",
    "\n",
    "        else:\n",
    "            for arg in args:\n",
    "                label = '{}_{}'.format(group, arg)\n",
    "                bool_dict[group][label] = list(x == arg for x in data_dict[group])\n",
    "                \n",
    "    # Calculate survival percentage (removing nans on the way)\n",
    "    for group in bool_dict.keys():\n",
    "        for label, f_bool in bool_dict[group].items():\n",
    "            surv_dict[group][label] = np.mean(list(data_dict['Survived'][i] for i, x \n",
    "                                               in enumerate(f_bool) if x == True))\n",
    "    \n",
    "    # If combinations are specified           \n",
    "    if combos == True:\n",
    "        \n",
    "        # Capture all labels\n",
    "        all_labels = {x: ((list(bool_dict[x].keys()))) for x in bool_dict.keys()}\n",
    "        \n",
    "        # Specify all possible combinations\n",
    "        combs = []\n",
    "        order = []\n",
    "        for group in all_labels:\n",
    "            order.append(group)\n",
    "            if combs:\n",
    "                update = []\n",
    "                for comb in combs:\n",
    "                    for label in all_labels[group]:\n",
    "                        temp = comb.copy()\n",
    "                        temp.append(label)\n",
    "                        update.append(temp)\n",
    "                if update:\n",
    "                    combs = update\n",
    "            else:\n",
    "                for label in all_labels[group]:\n",
    "                    combs.append([label])\n",
    "                    \n",
    "        # Init new dicts in answer dicts\n",
    "        bool_dict['Combos'] = {}\n",
    "        surv_dict['Combos'] = {}\n",
    "                \n",
    "        # Compose combination bools\n",
    "        for comb in combs:\n",
    "            label = '|'.join(comb)\n",
    "            some_bools = []\n",
    "            for i, key in enumerate(comb):\n",
    "                some_bools.append(bool_dict[order[i]][key])\n",
    "            bool_dict['Combos'][label] = list(all(x) for x in list(zip(*some_bools)))\n",
    "            \n",
    "            if sum(bool_dict['Combos'][label]) > 0:\n",
    "                surv_dict['Combos'][label] = np.mean(list(data_dict['Survived'][i] \n",
    "                        for i, x in enumerate(bool_dict['Combos'][label]) if x == True))\n",
    "                \n",
    "                \n",
    "    return surv_dict, bool_dict"
   ]
  },
  {
   "cell_type": "code",
   "execution_count": 19,
   "metadata": {},
   "outputs": [],
   "source": [
    "surv_dict, bool_dict = split_predict(data_dict_columns, \n",
    "        {'Pclass': [1, 2, 3]})"
   ]
  },
  {
   "cell_type": "code",
   "execution_count": 20,
   "metadata": {},
   "outputs": [
    {
     "data": {
      "text/plain": [
       "{'Pclass': {'Pclass_1': 0.62962962962962965,\n",
       "  'Pclass_2': 0.47282608695652173,\n",
       "  'Pclass_3': 0.24236252545824846}}"
      ]
     },
     "execution_count": 20,
     "metadata": {},
     "output_type": "execute_result"
    }
   ],
   "source": [
    "surv_dict"
   ]
  },
  {
   "cell_type": "markdown",
   "metadata": {},
   "source": [
    "# 11. Independent Work\n",
    "\n",
    "Use the techniques from step 10 to make different conditional splits in the `Survived` column. Can you find a combination of splits that maximizes the survival rate?"
   ]
  },
  {
   "cell_type": "code",
   "execution_count": 21,
   "metadata": {},
   "outputs": [],
   "source": [
    "surv_dict, bool_dict = split_predict(data_dict_columns, \n",
    "        {'Age': [(0,10),(10,20),(20,30),(30,40),(40,50),(50,60),(60,70),70]})"
   ]
  },
  {
   "cell_type": "code",
   "execution_count": 22,
   "metadata": {},
   "outputs": [
    {
     "data": {
      "text/plain": [
       "{'Age': {'Age_0-10': 0.61290322580645162,\n",
       "  'Age_10-20': 0.40196078431372551,\n",
       "  'Age_20-30': 0.34999999999999998,\n",
       "  'Age_30-40': 0.43712574850299402,\n",
       "  'Age_40-50': 0.38202247191011235,\n",
       "  'Age_50-60': 0.41666666666666669,\n",
       "  'Age_60-70': 0.31578947368421051,\n",
       "  'Age_70+': 0.14285714285714285}}"
      ]
     },
     "execution_count": 22,
     "metadata": {},
     "output_type": "execute_result"
    }
   ],
   "source": [
    "surv_dict"
   ]
  },
  {
   "cell_type": "code",
   "execution_count": 23,
   "metadata": {},
   "outputs": [],
   "source": [
    "surv_dict, bool_dict = split_predict(data_dict_columns, \n",
    "        {'Sex': ['male','female'], \n",
    "         'Pclass': [1, 2, 3],\n",
    "         'Embarked': ['C', 'Q', 'S']}, combos=True)"
   ]
  },
  {
   "cell_type": "code",
   "execution_count": 24,
   "metadata": {},
   "outputs": [
    {
     "data": {
      "text/plain": [
       "{'Combos': {'Sex_female|Pclass_1|Embarked_C': 0.97674418604651159,\n",
       "  'Sex_female|Pclass_1|Embarked_Q': 1.0,\n",
       "  'Sex_female|Pclass_1|Embarked_S': 0.95833333333333337,\n",
       "  'Sex_female|Pclass_2|Embarked_C': 1.0,\n",
       "  'Sex_female|Pclass_2|Embarked_Q': 1.0,\n",
       "  'Sex_female|Pclass_2|Embarked_S': 0.91044776119402981,\n",
       "  'Sex_female|Pclass_3|Embarked_C': 0.65217391304347827,\n",
       "  'Sex_female|Pclass_3|Embarked_Q': 0.72727272727272729,\n",
       "  'Sex_female|Pclass_3|Embarked_S': 0.375,\n",
       "  'Sex_male|Pclass_1|Embarked_C': 0.40476190476190477,\n",
       "  'Sex_male|Pclass_1|Embarked_Q': 0.0,\n",
       "  'Sex_male|Pclass_1|Embarked_S': 0.35443037974683544,\n",
       "  'Sex_male|Pclass_2|Embarked_C': 0.20000000000000001,\n",
       "  'Sex_male|Pclass_2|Embarked_Q': 0.0,\n",
       "  'Sex_male|Pclass_2|Embarked_S': 0.15463917525773196,\n",
       "  'Sex_male|Pclass_3|Embarked_C': 0.23255813953488372,\n",
       "  'Sex_male|Pclass_3|Embarked_Q': 0.076923076923076927,\n",
       "  'Sex_male|Pclass_3|Embarked_S': 0.12830188679245283},\n",
       " 'Embarked': {'Embarked_C': 0.5535714285714286,\n",
       "  'Embarked_Q': 0.38961038961038963,\n",
       "  'Embarked_S': 0.33695652173913043},\n",
       " 'Pclass': {'Pclass_1': 0.62962962962962965,\n",
       "  'Pclass_2': 0.47282608695652173,\n",
       "  'Pclass_3': 0.24236252545824846},\n",
       " 'Sex': {'Sex_female': 0.7420382165605095, 'Sex_male': 0.18890814558058924}}"
      ]
     },
     "execution_count": 24,
     "metadata": {},
     "output_type": "execute_result"
    }
   ],
   "source": [
    "surv_dict"
   ]
  },
  {
   "cell_type": "code",
   "execution_count": 25,
   "metadata": {},
   "outputs": [],
   "source": [
    "surv_dict, bool_dict = split_predict(data_dict_columns, \n",
    "        {'Age': [(0,10), (10,20), (20,30),(30, 40), (40, 50), (50, 60), (60, 70), 70], \n",
    "         'Sex': ['male','female'], \n",
    "         'Pclass': [1, 2, 3],\n",
    "         'Embarked': ['C', 'Q', 'S']}, combos=True)"
   ]
  },
  {
   "cell_type": "code",
   "execution_count": 26,
   "metadata": {},
   "outputs": [
    {
     "data": {
      "text/plain": [
       "{'Age': {'Age_0-10': 0.61290322580645162,\n",
       "  'Age_10-20': 0.40196078431372551,\n",
       "  'Age_20-30': 0.34999999999999998,\n",
       "  'Age_30-40': 0.43712574850299402,\n",
       "  'Age_40-50': 0.38202247191011235,\n",
       "  'Age_50-60': 0.41666666666666669,\n",
       "  'Age_60-70': 0.31578947368421051,\n",
       "  'Age_70+': 0.14285714285714285},\n",
       " 'Combos': {'Age_0-10|Sex_female|Pclass_1|Embarked_S': 0.0,\n",
       "  'Age_0-10|Sex_female|Pclass_2|Embarked_C': 1.0,\n",
       "  'Age_0-10|Sex_female|Pclass_2|Embarked_S': 1.0,\n",
       "  'Age_0-10|Sex_female|Pclass_3|Embarked_C': 0.83333333333333337,\n",
       "  'Age_0-10|Sex_female|Pclass_3|Embarked_S': 0.40000000000000002,\n",
       "  'Age_0-10|Sex_male|Pclass_1|Embarked_S': 1.0,\n",
       "  'Age_0-10|Sex_male|Pclass_2|Embarked_C': 1.0,\n",
       "  'Age_0-10|Sex_male|Pclass_2|Embarked_S': 1.0,\n",
       "  'Age_0-10|Sex_male|Pclass_3|Embarked_C': 1.0,\n",
       "  'Age_0-10|Sex_male|Pclass_3|Embarked_Q': 0.0,\n",
       "  'Age_0-10|Sex_male|Pclass_3|Embarked_S': 0.4375,\n",
       "  'Age_10-20|Sex_female|Pclass_1|Embarked_C': 1.0,\n",
       "  'Age_10-20|Sex_female|Pclass_1|Embarked_S': 1.0,\n",
       "  'Age_10-20|Sex_female|Pclass_2|Embarked_C': 1.0,\n",
       "  'Age_10-20|Sex_female|Pclass_2|Embarked_S': 1.0,\n",
       "  'Age_10-20|Sex_female|Pclass_3|Embarked_C': 0.5714285714285714,\n",
       "  'Age_10-20|Sex_female|Pclass_3|Embarked_Q': 0.80000000000000004,\n",
       "  'Age_10-20|Sex_female|Pclass_3|Embarked_S': 0.41666666666666669,\n",
       "  'Age_10-20|Sex_male|Pclass_1|Embarked_C': 0.5,\n",
       "  'Age_10-20|Sex_male|Pclass_1|Embarked_S': 0.33333333333333331,\n",
       "  'Age_10-20|Sex_male|Pclass_2|Embarked_S': 0.10000000000000001,\n",
       "  'Age_10-20|Sex_male|Pclass_3|Embarked_C': 0.25,\n",
       "  'Age_10-20|Sex_male|Pclass_3|Embarked_Q': 0.0,\n",
       "  'Age_10-20|Sex_male|Pclass_3|Embarked_S': 0.081081081081081086,\n",
       "  'Age_20-30|Sex_female|Pclass_1|Embarked_C': 1.0,\n",
       "  'Age_20-30|Sex_female|Pclass_1|Embarked_S': 0.88888888888888884,\n",
       "  'Age_20-30|Sex_female|Pclass_2|Embarked_C': 1.0,\n",
       "  'Age_20-30|Sex_female|Pclass_2|Embarked_S': 0.8571428571428571,\n",
       "  'Age_20-30|Sex_female|Pclass_3|Embarked_C': 1.0,\n",
       "  'Age_20-30|Sex_female|Pclass_3|Embarked_Q': 0.5,\n",
       "  'Age_20-30|Sex_female|Pclass_3|Embarked_S': 0.44444444444444442,\n",
       "  'Age_20-30|Sex_male|Pclass_1|Embarked_C': 0.5,\n",
       "  'Age_20-30|Sex_male|Pclass_1|Embarked_S': 0.5,\n",
       "  'Age_20-30|Sex_male|Pclass_2|Embarked_C': 0.0,\n",
       "  'Age_20-30|Sex_male|Pclass_2|Embarked_S': 0.0,\n",
       "  'Age_20-30|Sex_male|Pclass_3|Embarked_C': 0.41666666666666669,\n",
       "  'Age_20-30|Sex_male|Pclass_3|Embarked_Q': 0.33333333333333331,\n",
       "  'Age_20-30|Sex_male|Pclass_3|Embarked_S': 0.11494252873563218,\n",
       "  'Age_30-40|Sex_female|Pclass_1|Embarked_C': 1.0,\n",
       "  'Age_30-40|Sex_female|Pclass_1|Embarked_Q': 1.0,\n",
       "  'Age_30-40|Sex_female|Pclass_1|Embarked_S': 1.0,\n",
       "  'Age_30-40|Sex_female|Pclass_2|Embarked_Q': 1.0,\n",
       "  'Age_30-40|Sex_female|Pclass_2|Embarked_S': 0.9375,\n",
       "  'Age_30-40|Sex_female|Pclass_3|Embarked_Q': 0.0,\n",
       "  'Age_30-40|Sex_female|Pclass_3|Embarked_S': 0.53846153846153844,\n",
       "  'Age_30-40|Sex_male|Pclass_1|Embarked_C': 0.5714285714285714,\n",
       "  'Age_30-40|Sex_male|Pclass_1|Embarked_S': 0.5,\n",
       "  'Age_30-40|Sex_male|Pclass_2|Embarked_C': 0.0,\n",
       "  'Age_30-40|Sex_male|Pclass_2|Embarked_S': 0.1111111111111111,\n",
       "  'Age_30-40|Sex_male|Pclass_3|Embarked_C': 0.0,\n",
       "  'Age_30-40|Sex_male|Pclass_3|Embarked_Q': 0.0,\n",
       "  'Age_30-40|Sex_male|Pclass_3|Embarked_S': 0.17777777777777778,\n",
       "  'Age_40-50|Sex_female|Pclass_1|Embarked_C': 1.0,\n",
       "  'Age_40-50|Sex_female|Pclass_1|Embarked_S': 1.0,\n",
       "  'Age_40-50|Sex_female|Pclass_2|Embarked_S': 0.90000000000000002,\n",
       "  'Age_40-50|Sex_female|Pclass_3|Embarked_C': 0.0,\n",
       "  'Age_40-50|Sex_female|Pclass_3|Embarked_S': 0.0,\n",
       "  'Age_40-50|Sex_male|Pclass_1|Embarked_C': 0.5714285714285714,\n",
       "  'Age_40-50|Sex_male|Pclass_1|Embarked_Q': 0.0,\n",
       "  'Age_40-50|Sex_male|Pclass_1|Embarked_S': 0.3125,\n",
       "  'Age_40-50|Sex_male|Pclass_2|Embarked_S': 0.125,\n",
       "  'Age_40-50|Sex_male|Pclass_3|Embarked_C': 0.0,\n",
       "  'Age_40-50|Sex_male|Pclass_3|Embarked_Q': 0.0,\n",
       "  'Age_40-50|Sex_male|Pclass_3|Embarked_S': 0.095238095238095233,\n",
       "  'Age_50-60|Sex_female|Pclass_1|Embarked_C': 0.8571428571428571,\n",
       "  'Age_50-60|Sex_female|Pclass_1|Embarked_S': 1.0,\n",
       "  'Age_50-60|Sex_female|Pclass_2|Embarked_S': 0.83333333333333337,\n",
       "  'Age_50-60|Sex_male|Pclass_1|Embarked_C': 0.16666666666666666,\n",
       "  'Age_50-60|Sex_male|Pclass_1|Embarked_S': 0.33333333333333331,\n",
       "  'Age_50-60|Sex_male|Pclass_2|Embarked_Q': 0.0,\n",
       "  'Age_50-60|Sex_male|Pclass_2|Embarked_S': 0.0,\n",
       "  'Age_50-60|Sex_male|Pclass_3|Embarked_S': 0.0,\n",
       "  'Age_60-70|Sex_female|Pclass_1|Embarked_C': 1.0,\n",
       "  'Age_60-70|Sex_female|Pclass_1|Embarked_S': 1.0,\n",
       "  'Age_60-70|Sex_female|Pclass_3|Embarked_S': 1.0,\n",
       "  'Age_60-70|Sex_male|Pclass_1|Embarked_C': 0.5,\n",
       "  'Age_60-70|Sex_male|Pclass_1|Embarked_S': 0.0,\n",
       "  'Age_60-70|Sex_male|Pclass_2|Embarked_S': 0.33333333333333331,\n",
       "  'Age_60-70|Sex_male|Pclass_3|Embarked_Q': 0.0,\n",
       "  'Age_60-70|Sex_male|Pclass_3|Embarked_S': 0.0,\n",
       "  'Age_70+|Sex_male|Pclass_1|Embarked_C': 0.0,\n",
       "  'Age_70+|Sex_male|Pclass_1|Embarked_S': 0.5,\n",
       "  'Age_70+|Sex_male|Pclass_2|Embarked_S': 0.0,\n",
       "  'Age_70+|Sex_male|Pclass_3|Embarked_Q': 0.0,\n",
       "  'Age_70+|Sex_male|Pclass_3|Embarked_S': 0.0},\n",
       " 'Embarked': {'Embarked_C': 0.5535714285714286,\n",
       "  'Embarked_Q': 0.38961038961038963,\n",
       "  'Embarked_S': 0.33695652173913043},\n",
       " 'Pclass': {'Pclass_1': 0.62962962962962965,\n",
       "  'Pclass_2': 0.47282608695652173,\n",
       "  'Pclass_3': 0.24236252545824846},\n",
       " 'Sex': {'Sex_female': 0.7420382165605095, 'Sex_male': 0.18890814558058924}}"
      ]
     },
     "execution_count": 26,
     "metadata": {},
     "output_type": "execute_result"
    }
   ],
   "source": [
    "surv_dict"
   ]
  },
  {
   "cell_type": "markdown",
   "metadata": {},
   "source": [
    "**Once more than 3 conditions are specified, group sizes decrease and become so granular as to likely lose predictive power.**"
   ]
  },
  {
   "cell_type": "markdown",
   "metadata": {},
   "source": [
    "# 12. Distributions\n",
    "\n",
    "### A) For each of your numeric features, use `pyplot` subplots to plot a hisogram for each feature.\n",
    "\n",
    "* Make sure to title each subplot.\n",
    "* If you get an error, it may be caused by `np.NaN`"
   ]
  },
  {
   "cell_type": "code",
   "execution_count": 27,
   "metadata": {},
   "outputs": [],
   "source": [
    "import matplotlib.pyplot as plt\n",
    "%matplotlib inline"
   ]
  },
  {
   "cell_type": "code",
   "execution_count": 28,
   "metadata": {},
   "outputs": [
    {
     "data": {
      "image/png": "[encoded data removed]",
      "text/plain": [
       "<matplotlib.figure.Figure at 0x7ff906dcc6a0>"
      ]
     },
     "metadata": {},
     "output_type": "display_data"
    }
   ],
   "source": [
    "# Your code here\n",
    "fig, ax = plt.subplots(3, 2, figsize =(10, 5))\n",
    "\n",
    "label = ['Age', 'Fare', 'Parch', 'Pclass', 'SibSp', 'Survived']\n",
    "num_bins = [20, 20, 6, 3, 8, 2]\n",
    "\n",
    "k = 0\n",
    "for i, row in enumerate(ax):\n",
    "for j, item in enumerate(row):\n",
    "    ax[i,j].hist([x for x in data_dict_columns[label[k]] if not np.isnan(x)], \n",
    "                 bins = num_bins[k])\n",
    "    ax[i,j].set_title(label[k])\n",
    "    ax[i,j].set_ylabel('Count')\n",
    "    k += 1\n",
    "plt.tight_layout()"
   ]
  },
  {
   "cell_type": "markdown",
   "metadata": {},
   "source": [
    "### B) for each of these values, what's the 90% confidence interval of the population mean?\n",
    "\n",
    "* Create a function to find the confidence interval, and use it on each of the numeric columns.\n",
    "* What's your interpretation of the interval?"
   ]
  },
  {
   "cell_type": "code",
   "execution_count": 29,
   "metadata": {},
   "outputs": [],
   "source": [
    "from scipy import stats\n",
    "\n",
    "def standard_error(dist):\n",
    "    return this_std(dist)/np.sqrt(len(dist))\n",
    "\n",
    "def zscore_from_confidence(confidence):\n",
    "    return stats.norm.ppf((1-confidence)/2)\n",
    "\n",
    "def confidence_interval_of_mean(dist, confidence):\n",
    "    lower = this_mean(dist) + zscore_from_confidence(confidence) * standard_error(dist)\n",
    "    upper = this_mean(dist) - zscore_from_confidence(confidence) * standard_error(dist)\n",
    "    return lower, upper"
   ]
  },
  {
   "cell_type": "code",
   "execution_count": 30,
   "metadata": {},
   "outputs": [
    {
     "name": "stdout",
     "output_type": "stream",
     "text": [
      "Age CI: 28.89920056253267, 30.49903473158497\n",
      "Fare CI: 29.467405089819053, 34.94101084733015\n",
      "Parch CI: 0.3372011305249467, 0.4259862993291498\n",
      "Pclass CI: 2.2625964066339836, 2.3546875439833004\n",
      "SibSp CI: 0.4622756532063744, 0.5837400594760048\n",
      "Survived CI: 0.3570399183831679, 0.4106368492935997\n"
     ]
    }
   ],
   "source": [
    "for label in ['Age', 'Fare', 'Parch', 'Pclass', 'SibSp', 'Survived']:\n",
    "    lower,upper = confidence_interval_of_mean(data_dict_columns[label], .9)\n",
    "    print('{} CI: {}, {}'.format(label, lower, upper))"
   ]
  },
  {
   "cell_type": "markdown",
   "metadata": {},
   "source": [
    "**Confidence intervals are generally small, with that for Fare being slightly higher. This is not surprising given the extreme outliers raising the mean so significantly in the fare, versus the fairly clustered distribution of the other data.**"
   ]
  },
  {
   "cell_type": "markdown",
   "metadata": {},
   "source": [
    "# 13. Pandas"
   ]
  },
  {
   "cell_type": "markdown",
   "metadata": {},
   "source": [
    "### A: Load the titanic csv into a `DataFrame` using `pd.read_csv()`"
   ]
  },
  {
   "cell_type": "code",
   "execution_count": 31,
   "metadata": {},
   "outputs": [],
   "source": [
    "import pandas as pd"
   ]
  },
  {
   "cell_type": "code",
   "execution_count": 32,
   "metadata": {},
   "outputs": [],
   "source": [
    "titanic_df = pd.read_csv('/home/jovyan/dsi_projects/Project_1_titanic/titanic.csv')"
   ]
  },
  {
   "cell_type": "markdown",
   "metadata": {},
   "source": [
    "### B: Display the first 5 rows, the last 4 rows, and a sample of 3 rows."
   ]
  },
  {
   "cell_type": "code",
   "execution_count": 33,
   "metadata": {},
   "outputs": [
    {
     "data": {
      "text/html": [
       "<div>\n",
       "<table border=\"1\" class=\"dataframe\">\n",
       "  <thead>\n",
       "    <tr style=\"text-align: right;\">\n",
       "      <th></th>\n",
       "      <th>PassengerId</th>\n",
       "      <th>Survived</th>\n",
       "      <th>Pclass</th>\n",
       "      <th>Name</th>\n",
       "      <th>Sex</th>\n",
       "      <th>Age</th>\n",
       "      <th>SibSp</th>\n",
       "      <th>Parch</th>\n",
       "      <th>Ticket</th>\n",
       "      <th>Fare</th>\n",
       "      <th>Cabin</th>\n",
       "      <th>Embarked</th>\n",
       "    </tr>\n",
       "  </thead>\n",
       "  <tbody>\n",
       "    <tr>\n",
       "      <th>0</th>\n",
       "      <td>1</td>\n",
       "      <td>0</td>\n",
       "      <td>3</td>\n",
       "      <td>Braund, Mr. Owen Harris</td>\n",
       "      <td>male</td>\n",
       "      <td>22.0</td>\n",
       "      <td>1</td>\n",
       "      <td>0</td>\n",
       "      <td>A/5 21171</td>\n",
       "      <td>7.2500</td>\n",
       "      <td>NaN</td>\n",
       "      <td>S</td>\n",
       "    </tr>\n",
       "    <tr>\n",
       "      <th>1</th>\n",
       "      <td>2</td>\n",
       "      <td>1</td>\n",
       "      <td>1</td>\n",
       "      <td>Cumings, Mrs. John Bradley (Florence Briggs Th...</td>\n",
       "      <td>female</td>\n",
       "      <td>38.0</td>\n",
       "      <td>1</td>\n",
       "      <td>0</td>\n",
       "      <td>PC 17599</td>\n",
       "      <td>71.2833</td>\n",
       "      <td>C85</td>\n",
       "      <td>C</td>\n",
       "    </tr>\n",
       "    <tr>\n",
       "      <th>2</th>\n",
       "      <td>3</td>\n",
       "      <td>1</td>\n",
       "      <td>3</td>\n",
       "      <td>Heikkinen, Miss. Laina</td>\n",
       "      <td>female</td>\n",
       "      <td>26.0</td>\n",
       "      <td>0</td>\n",
       "      <td>0</td>\n",
       "      <td>STON/O2. 3101282</td>\n",
       "      <td>7.9250</td>\n",
       "      <td>NaN</td>\n",
       "      <td>S</td>\n",
       "    </tr>\n",
       "    <tr>\n",
       "      <th>3</th>\n",
       "      <td>4</td>\n",
       "      <td>1</td>\n",
       "      <td>1</td>\n",
       "      <td>Futrelle, Mrs. Jacques Heath (Lily May Peel)</td>\n",
       "      <td>female</td>\n",
       "      <td>35.0</td>\n",
       "      <td>1</td>\n",
       "      <td>0</td>\n",
       "      <td>113803</td>\n",
       "      <td>53.1000</td>\n",
       "      <td>C123</td>\n",
       "      <td>S</td>\n",
       "    </tr>\n",
       "    <tr>\n",
       "      <th>4</th>\n",
       "      <td>5</td>\n",
       "      <td>0</td>\n",
       "      <td>3</td>\n",
       "      <td>Allen, Mr. William Henry</td>\n",
       "      <td>male</td>\n",
       "      <td>35.0</td>\n",
       "      <td>0</td>\n",
       "      <td>0</td>\n",
       "      <td>373450</td>\n",
       "      <td>8.0500</td>\n",
       "      <td>NaN</td>\n",
       "      <td>S</td>\n",
       "    </tr>\n",
       "  </tbody>\n",
       "</table>\n",
       "</div>"
      ],
      "text/plain": [
       "   PassengerId  Survived  Pclass  \\\n",
       "0            1         0       3   \n",
       "1            2         1       1   \n",
       "2            3         1       3   \n",
       "3            4         1       1   \n",
       "4            5         0       3   \n",
       "\n",
       "                                                Name     Sex   Age  SibSp  \\\n",
       "0                            Braund, Mr. Owen Harris    male  22.0      1   \n",
       "1  Cumings, Mrs. John Bradley (Florence Briggs Th...  female  38.0      1   \n",
       "2                             Heikkinen, Miss. Laina  female  26.0      0   \n",
       "3       Futrelle, Mrs. Jacques Heath (Lily May Peel)  female  35.0      1   \n",
       "4                           Allen, Mr. William Henry    male  35.0      0   \n",
       "\n",
       "   Parch            Ticket     Fare Cabin Embarked  \n",
       "0      0         A/5 21171   7.2500   NaN        S  \n",
       "1      0          PC 17599  71.2833   C85        C  \n",
       "2      0  STON/O2. 3101282   7.9250   NaN        S  \n",
       "3      0            113803  53.1000  C123        S  \n",
       "4      0            373450   8.0500   NaN        S  "
      ]
     },
     "execution_count": 33,
     "metadata": {},
     "output_type": "execute_result"
    }
   ],
   "source": [
    "titanic_df.head(5)"
   ]
  },
  {
   "cell_type": "code",
   "execution_count": 34,
   "metadata": {},
   "outputs": [
    {
     "data": {
      "text/html": [
       "<div>\n",
       "<table border=\"1\" class=\"dataframe\">\n",
       "  <thead>\n",
       "    <tr style=\"text-align: right;\">\n",
       "      <th></th>\n",
       "      <th>PassengerId</th>\n",
       "      <th>Survived</th>\n",
       "      <th>Pclass</th>\n",
       "      <th>Name</th>\n",
       "      <th>Sex</th>\n",
       "      <th>Age</th>\n",
       "      <th>SibSp</th>\n",
       "      <th>Parch</th>\n",
       "      <th>Ticket</th>\n",
       "      <th>Fare</th>\n",
       "      <th>Cabin</th>\n",
       "      <th>Embarked</th>\n",
       "    </tr>\n",
       "  </thead>\n",
       "  <tbody>\n",
       "    <tr>\n",
       "      <th>886</th>\n",
       "      <td>887</td>\n",
       "      <td>0</td>\n",
       "      <td>2</td>\n",
       "      <td>Montvila, Rev. Juozas</td>\n",
       "      <td>male</td>\n",
       "      <td>27.0</td>\n",
       "      <td>0</td>\n",
       "      <td>0</td>\n",
       "      <td>211536</td>\n",
       "      <td>13.00</td>\n",
       "      <td>NaN</td>\n",
       "      <td>S</td>\n",
       "    </tr>\n",
       "    <tr>\n",
       "      <th>887</th>\n",
       "      <td>888</td>\n",
       "      <td>1</td>\n",
       "      <td>1</td>\n",
       "      <td>Graham, Miss. Margaret Edith</td>\n",
       "      <td>female</td>\n",
       "      <td>19.0</td>\n",
       "      <td>0</td>\n",
       "      <td>0</td>\n",
       "      <td>112053</td>\n",
       "      <td>30.00</td>\n",
       "      <td>B42</td>\n",
       "      <td>S</td>\n",
       "    </tr>\n",
       "    <tr>\n",
       "      <th>888</th>\n",
       "      <td>889</td>\n",
       "      <td>0</td>\n",
       "      <td>3</td>\n",
       "      <td>Johnston, Miss. Catherine Helen \"Carrie\"</td>\n",
       "      <td>female</td>\n",
       "      <td>NaN</td>\n",
       "      <td>1</td>\n",
       "      <td>2</td>\n",
       "      <td>W./C. 6607</td>\n",
       "      <td>23.45</td>\n",
       "      <td>NaN</td>\n",
       "      <td>S</td>\n",
       "    </tr>\n",
       "    <tr>\n",
       "      <th>889</th>\n",
       "      <td>890</td>\n",
       "      <td>1</td>\n",
       "      <td>1</td>\n",
       "      <td>Behr, Mr. Karl Howell</td>\n",
       "      <td>male</td>\n",
       "      <td>26.0</td>\n",
       "      <td>0</td>\n",
       "      <td>0</td>\n",
       "      <td>111369</td>\n",
       "      <td>30.00</td>\n",
       "      <td>C148</td>\n",
       "      <td>C</td>\n",
       "    </tr>\n",
       "    <tr>\n",
       "      <th>890</th>\n",
       "      <td>891</td>\n",
       "      <td>0</td>\n",
       "      <td>3</td>\n",
       "      <td>Dooley, Mr. Patrick</td>\n",
       "      <td>male</td>\n",
       "      <td>32.0</td>\n",
       "      <td>0</td>\n",
       "      <td>0</td>\n",
       "      <td>370376</td>\n",
       "      <td>7.75</td>\n",
       "      <td>NaN</td>\n",
       "      <td>Q</td>\n",
       "    </tr>\n",
       "  </tbody>\n",
       "</table>\n",
       "</div>"
      ],
      "text/plain": [
       "     PassengerId  Survived  Pclass                                      Name  \\\n",
       "886          887         0       2                     Montvila, Rev. Juozas   \n",
       "887          888         1       1              Graham, Miss. Margaret Edith   \n",
       "888          889         0       3  Johnston, Miss. Catherine Helen \"Carrie\"   \n",
       "889          890         1       1                     Behr, Mr. Karl Howell   \n",
       "890          891         0       3                       Dooley, Mr. Patrick   \n",
       "\n",
       "        Sex   Age  SibSp  Parch      Ticket   Fare Cabin Embarked  \n",
       "886    male  27.0      0      0      211536  13.00   NaN        S  \n",
       "887  female  19.0      0      0      112053  30.00   B42        S  \n",
       "888  female   NaN      1      2  W./C. 6607  23.45   NaN        S  \n",
       "889    male  26.0      0      0      111369  30.00  C148        C  \n",
       "890    male  32.0      0      0      370376   7.75   NaN        Q  "
      ]
     },
     "execution_count": 34,
     "metadata": {},
     "output_type": "execute_result"
    }
   ],
   "source": [
    "titanic_df.tail(5)"
   ]
  },
  {
   "cell_type": "code",
   "execution_count": 35,
   "metadata": {},
   "outputs": [
    {
     "data": {
      "text/html": [
       "<div>\n",
       "<table border=\"1\" class=\"dataframe\">\n",
       "  <thead>\n",
       "    <tr style=\"text-align: right;\">\n",
       "      <th></th>\n",
       "      <th>PassengerId</th>\n",
       "      <th>Survived</th>\n",
       "      <th>Pclass</th>\n",
       "      <th>Name</th>\n",
       "      <th>Sex</th>\n",
       "      <th>Age</th>\n",
       "      <th>SibSp</th>\n",
       "      <th>Parch</th>\n",
       "      <th>Ticket</th>\n",
       "      <th>Fare</th>\n",
       "      <th>Cabin</th>\n",
       "      <th>Embarked</th>\n",
       "    </tr>\n",
       "  </thead>\n",
       "  <tbody>\n",
       "    <tr>\n",
       "      <th>50</th>\n",
       "      <td>51</td>\n",
       "      <td>0</td>\n",
       "      <td>3</td>\n",
       "      <td>Panula, Master. Juha Niilo</td>\n",
       "      <td>male</td>\n",
       "      <td>7.0</td>\n",
       "      <td>4</td>\n",
       "      <td>1</td>\n",
       "      <td>3101295</td>\n",
       "      <td>39.6875</td>\n",
       "      <td>NaN</td>\n",
       "      <td>S</td>\n",
       "    </tr>\n",
       "    <tr>\n",
       "      <th>150</th>\n",
       "      <td>151</td>\n",
       "      <td>0</td>\n",
       "      <td>2</td>\n",
       "      <td>Bateman, Rev. Robert James</td>\n",
       "      <td>male</td>\n",
       "      <td>51.0</td>\n",
       "      <td>0</td>\n",
       "      <td>0</td>\n",
       "      <td>S.O.P. 1166</td>\n",
       "      <td>12.5250</td>\n",
       "      <td>NaN</td>\n",
       "      <td>S</td>\n",
       "    </tr>\n",
       "    <tr>\n",
       "      <th>250</th>\n",
       "      <td>251</td>\n",
       "      <td>0</td>\n",
       "      <td>3</td>\n",
       "      <td>Reed, Mr. James George</td>\n",
       "      <td>male</td>\n",
       "      <td>NaN</td>\n",
       "      <td>0</td>\n",
       "      <td>0</td>\n",
       "      <td>362316</td>\n",
       "      <td>7.2500</td>\n",
       "      <td>NaN</td>\n",
       "      <td>S</td>\n",
       "    </tr>\n",
       "  </tbody>\n",
       "</table>\n",
       "</div>"
      ],
      "text/plain": [
       "     PassengerId  Survived  Pclass                        Name   Sex   Age  \\\n",
       "50            51         0       3  Panula, Master. Juha Niilo  male   7.0   \n",
       "150          151         0       2  Bateman, Rev. Robert James  male  51.0   \n",
       "250          251         0       3      Reed, Mr. James George  male   NaN   \n",
       "\n",
       "     SibSp  Parch       Ticket     Fare Cabin Embarked  \n",
       "50       4      1      3101295  39.6875   NaN        S  \n",
       "150      0      0  S.O.P. 1166  12.5250   NaN        S  \n",
       "250      0      0       362316   7.2500   NaN        S  "
      ]
     },
     "execution_count": 35,
     "metadata": {},
     "output_type": "execute_result"
    }
   ],
   "source": [
    "titanic_df.loc[[50, 150, 250]]"
   ]
  },
  {
   "cell_type": "markdown",
   "metadata": {},
   "source": [
    "### C: Create a row mask that is `True` when `Pclass == 3`. Use this to mask your `DataFrame`. Find the mean of the `Survived` column. Is it the same as what we calculated in part 10?"
   ]
  },
  {
   "cell_type": "code",
   "execution_count": 36,
   "metadata": {},
   "outputs": [],
   "source": [
    "pclass3_mask = titanic_df['Pclass'] == 3"
   ]
  },
  {
   "cell_type": "code",
   "execution_count": 37,
   "metadata": {},
   "outputs": [
    {
     "data": {
      "text/plain": [
       "0.24236252545824846"
      ]
     },
     "execution_count": 37,
     "metadata": {},
     "output_type": "execute_result"
    }
   ],
   "source": [
    "titanic_df[pclass3_mask]['Survived'].mean()"
   ]
  },
  {
   "cell_type": "markdown",
   "metadata": {},
   "source": [
    "### D: Using a `.groupby()`, what is the mean of the survival column grouped by `Pclass` and `Sex`. What are your observations?"
   ]
  },
  {
   "cell_type": "code",
   "execution_count": 38,
   "metadata": {},
   "outputs": [
    {
     "data": {
      "text/plain": [
       "Pclass  Sex   \n",
       "1       female    0.968085\n",
       "        male      0.368852\n",
       "2       female    0.921053\n",
       "        male      0.157407\n",
       "3       female    0.500000\n",
       "        male      0.135447\n",
       "Name: Survived, dtype: float64"
      ]
     },
     "execution_count": 38,
     "metadata": {},
     "output_type": "execute_result"
    }
   ],
   "source": [
    "titanic_df.groupby(['Pclass', 'Sex'])['Survived'].mean()"
   ]
  },
  {
   "cell_type": "markdown",
   "metadata": {},
   "source": [
    "**While overall, women had the highest chance of survival, in class 1 and 2 almost all women survived. Men faired much better from class 1 than the other two classes.**"
   ]
  },
  {
   "cell_type": "markdown",
   "metadata": {},
   "source": [
    "### E: Survival Rate by Age Range:  `pd.cut()` takes two arguments: A `list`, `Series`, or `array`, and a list of bins. Create a new column in your `DataFrame` using `pd.cut()` that groups your ages into bins of 5 years. Then, use `.groupby()` to display the survival rate and count for each age group"
   ]
  },
  {
   "cell_type": "code",
   "execution_count": 39,
   "metadata": {},
   "outputs": [],
   "source": [
    "titanic_df['Age_bin'] = pd.cut(titanic_df['Age'], bins=list(range(0, 85, 5)))"
   ]
  },
  {
   "cell_type": "code",
   "execution_count": 40,
   "metadata": {},
   "outputs": [
    {
     "data": {
      "text/plain": [
       "Age_bin\n",
       "(0, 5]      0.704545\n",
       "(5, 10]     0.350000\n",
       "(10, 15]    0.578947\n",
       "(15, 20]    0.343750\n",
       "(20, 25]    0.344262\n",
       "(25, 30]    0.388889\n",
       "(30, 35]    0.465909\n",
       "(35, 40]    0.417910\n",
       "(40, 45]    0.361702\n",
       "(45, 50]    0.410256\n",
       "(50, 55]    0.416667\n",
       "(55, 60]    0.388889\n",
       "(60, 65]    0.285714\n",
       "(65, 70]    0.000000\n",
       "(70, 75]    0.000000\n",
       "(75, 80]    1.000000\n",
       "Name: Survived, dtype: float64"
      ]
     },
     "execution_count": 40,
     "metadata": {},
     "output_type": "execute_result"
    }
   ],
   "source": [
    "titanic_df.groupby('Age_bin')['Survived'].mean()"
   ]
  },
  {
   "cell_type": "code",
   "execution_count": 41,
   "metadata": {},
   "outputs": [
    {
     "data": {
      "text/plain": [
       "Age_bin\n",
       "(0, 5]       44\n",
       "(5, 10]      20\n",
       "(10, 15]     19\n",
       "(15, 20]     96\n",
       "(20, 25]    122\n",
       "(25, 30]    108\n",
       "(30, 35]     88\n",
       "(35, 40]     67\n",
       "(40, 45]     47\n",
       "(45, 50]     39\n",
       "(50, 55]     24\n",
       "(55, 60]     18\n",
       "(60, 65]     14\n",
       "(65, 70]      3\n",
       "(70, 75]      4\n",
       "(75, 80]      1\n",
       "Name: Survived, dtype: int64"
      ]
     },
     "execution_count": 41,
     "metadata": {},
     "output_type": "execute_result"
    }
   ],
   "source": [
    "titanic_df.groupby('Age_bin')['Survived'].count()"
   ]
  },
  {
   "cell_type": "markdown",
   "metadata": {},
   "source": [
    "# 14. Hypothesis Testing\n",
    "\n",
    "### A) Hypothesis:\n",
    "\n",
    "Create a null and alternate hypothesis to ask the following quesiton: Was the `Age` of survivors different from that of people who didn't survive?"
   ]
  },
  {
   "cell_type": "markdown",
   "metadata": {},
   "source": [
    "**Hypotheses:**\n",
    "\n",
    "$H_0$: The mean age does not differ between passengers who survived and those who died.\n",
    "\n",
    "$H_1$: Passengers who surived had a different mean age than those who died."
   ]
  },
  {
   "cell_type": "markdown",
   "metadata": {},
   "source": [
    "### B) T-Testing\n",
    "\n",
    "Use a t-test to test your null hypothesis. What's the p-value? What's your interpretation? Do you accept or reject your null hypothesis? What does this mean in terms of `Age`?"
   ]
  },
  {
   "cell_type": "code",
   "execution_count": 42,
   "metadata": {},
   "outputs": [],
   "source": [
    "ttest = stats.ttest_ind"
   ]
  },
  {
   "cell_type": "code",
   "execution_count": 43,
   "metadata": {},
   "outputs": [
    {
     "data": {
      "text/plain": [
       "Ttest_indResult(statistic=-2.0666869462538102, pvalue=0.039124654013483327)"
      ]
     },
     "execution_count": 43,
     "metadata": {},
     "output_type": "execute_result"
    }
   ],
   "source": [
    "ttest(titanic_df[titanic_df['Survived'] == 1]['Age'],\n",
    "      titanic_df[titanic_df['Survived'] == 0]['Age'], nan_policy='omit')"
   ]
  },
  {
   "cell_type": "markdown",
   "metadata": {},
   "source": [
    "**With a pvalue of .03 we can reject the null hypothesis. Survival rates did vary significantly by mean age within the sampled population.**"
   ]
  },
  {
   "cell_type": "markdown",
   "metadata": {},
   "source": [
    "# 13. Write-up\n",
    "\n",
    "Use markdown cells to answer the following questions:\n",
    "\n",
    "1. What is the main difference between a list and a tuple?\n",
    "2. Can you iterate over a dictionary? If so, how?\n",
    "3. What is the term for a list or array of `True` and `False` values used to select certain rows or columns in a `DataFrame`?\n",
    "4. If you have a continuous variable, when would the median be a better descriptor than the mean? Why?\n",
    "5. Give a qualitative description of the survivors of the titanic based on the effects of your splits in the data on survival rate. Or, given a row, what columns would you look at to guess if they survived?\n"
   ]
  },
  {
   "cell_type": "markdown",
   "metadata": {},
   "source": [
    "1. A list is mutable and has methods: append, clear, copy, extend, insert, pop, remove, reverse. A tuple is immutable; it shares count and index methods with the list type. Many operations can be done with either type, but both have important use cases.\n",
    "2. An easy way to iterate through dictionaries is:\n",
    "\n",
    " for key in data_dict.keys():\n",
    "     do something to data_dict[key]\n",
    "\n",
    "3. A mask or boolean array\n",
    "4. The median is a better descriptor than the mean when you have significant outliers. These can greatly shift the mean, while the median will remain near the center of the data assuming a fairly normal distribution.\n",
    "5. Sex, pclass, departure, and age. Overall, sex and pclass seem to be the best predictors, but very young children also surived at a high rate. Those that departed from Cherbourg also seem to have a slightly higher survival rate."
   ]
  },
  {
   "cell_type": "markdown",
   "metadata": {},
   "source": [
    "# 14. Evaluation\n",
    "\n",
    "Please use markdown cells to submit your responses. \n",
    "\n",
    "1. What was easy for you in this project?\n",
    "2. What was difficult?\n",
    "3. Where did you make the most improvement?\n",
    "4. Where would you like to improve?"
   ]
  },
  {
   "cell_type": "markdown",
   "metadata": {},
   "source": [
    "1. Most everything was pretty straightforward for me. Stats and plotting are the biggest challenge.\n",
    "2. I spent a lot of time on defining my own function for use in problems 10 and 11. I knew that this was a waste of time, as pandas will do all of this automatically and numpy arrays work with booleans in an intutive way as well, but I'm glad that I challenged myself to write a silly and complicated function.\n",
    "3. I feel a lot more comfortable with list and dict comprehensions than I did prior to this project.\n",
    "4. I would like to continue to get more comfortable with matplotlib. At this point, I still need to look to references for most of the keywords. Similarly, while I understand how to interpret the statistics, I'm still familiarizing myself with using these functions in python."
   ]
  }
 ],
 "metadata": {
  "kernelspec": {
   "display_name": "Python 3",
   "language": "python",
   "name": "python3"
  },
  "language_info": {
   "codemirror_mode": {
    "name": "ipython",
    "version": 3
   },
   "file_extension": ".py",
   "mimetype": "text/x-python",
   "name": "python",
   "nbconvert_exporter": "python",
   "pygments_lexer": "ipython3",
   "version": "3.6.2"
  }
 },
 "nbformat": 4,
 "nbformat_minor": 2
}
